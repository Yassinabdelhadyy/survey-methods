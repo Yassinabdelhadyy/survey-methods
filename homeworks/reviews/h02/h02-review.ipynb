{
 "cells": [
  {
   "cell_type": "markdown",
   "metadata": {
    "vscode": {
     "languageId": "r"
    }
   },
   "source": [
    "# Assignment 2, Question 2"
   ]
  },
  {
   "cell_type": "code",
   "execution_count": 3,
   "metadata": {
    "vscode": {
     "languageId": "r"
    }
   },
   "outputs": [],
   "source": [
    "library(sampler)\n",
    "library(data.table)"
   ]
  },
  {
   "cell_type": "code",
   "execution_count": 4,
   "metadata": {
    "vscode": {
     "languageId": "r"
    }
   },
   "outputs": [],
   "source": [
    "group = c(\"A\", \"B\", \"C\", \"D\")\n",
    "sizes = c(123, 534, 321, 2842)\n",
    "# estimate proportion\n",
    "p = c(0.84, 0.71, 0.55, 0.36)\n",
    "dat = data.table(type=group, N=sizes, p=p)"
   ]
  },
  {
   "cell_type": "markdown",
   "metadata": {},
   "source": [
    "# Steps\n",
    "\n",
    "1. We start with a proportional allocation, and estimate MOE for the whole sample and also only for group C. I used the `proportion engaged` as the best estimate of the proportion per strata to estimate MOE.\n",
    "2. We try another allocation. In the solution below, I increase the sample size of stratum C (to 100) to reduce C's MOE\n",
    "3. Finally, I compute the total MOE and C's MOE, and justify my decision\n",
    "   \n",
    "There is no unique/correct answer to this question. The goal of the exercise is to come out with a solution that increases the precision of group C without losing much on the overall precision"
   ]
  },
  {
   "cell_type": "code",
   "execution_count": 5,
   "metadata": {
    "vscode": {
     "languageId": "r"
    }
   },
   "outputs": [
    {
     "name": "stdout",
     "output_type": "stream",
     "text": [
      "[1] \"Proportional MOE stratification (total estimate):0.0516\"\n",
      "[1] \"Proportional MOE group C: 0.1876\"\n",
      "[1] \"Fixed MOE stratification (total estimate):0.0587\"\n",
      "[1] \"Fixed MOE group C: 0.081\"\n"
     ]
    }
   ],
   "source": [
    "# proportional assignment\n",
    "dat[, proportional := astrata(300, p=p, N=N)]\n",
    "\n",
    "print(paste0('Proportional MOE stratification (total estimate):', serrst(dat$proportional, dat$N, p=dat$p)))\n",
    "print(paste0('Proportional MOE group C: ', serr(dat[type=='C', proportional], N=321, p=dat[type=='C', p])))\n",
    "\n",
    "# increase sample of group C to 100, so we can run more analysis on that group (there is no correct answer here)\n",
    "dat[type!='C', fixed := astrata(300-100, p=p, N=N)]\n",
    "dat[type=='C', fixed := 100]\n",
    "\n",
    "print(paste0('Fixed MOE stratification (total estimate):', serrst(dat$fixed, dat$N, p=dat$p)))\n",
    "print(paste0('Fixed MOE group C: ', serr(dat[type=='C', fixed], N=321, p=dat[type=='C', p])))"
   ]
  },
  {
   "cell_type": "code",
   "execution_count": 6,
   "metadata": {
    "vscode": {
     "languageId": "r"
    }
   },
   "outputs": [],
   "source": [
    "# design weights\n",
    "\n",
    "# proportional\n",
    "dat[, proportional_weight := 1/(proportional/N)]\n",
    "\n",
    "# fixed\n",
    "dat[, fixed_weight := 1/(fixed/N)]"
   ]
  },
  {
   "cell_type": "code",
   "execution_count": 7,
   "metadata": {
    "vscode": {
     "languageId": "r"
    }
   },
   "outputs": [
    {
     "data": {
      "text/html": [
       "3820"
      ],
      "text/latex": [
       "3820"
      ],
      "text/markdown": [
       "3820"
      ],
      "text/plain": [
       "[1] 3820"
      ]
     },
     "metadata": {},
     "output_type": "display_data"
    },
    {
     "data": {
      "text/html": [
       "3820"
      ],
      "text/latex": [
       "3820"
      ],
      "text/markdown": [
       "3820"
      ],
      "text/plain": [
       "[1] 3820"
      ]
     },
     "metadata": {},
     "output_type": "display_data"
    },
    {
     "data": {
      "text/html": [
       "3820"
      ],
      "text/latex": [
       "3820"
      ],
      "text/markdown": [
       "3820"
      ],
      "text/plain": [
       "[1] 3820"
      ]
     },
     "metadata": {},
     "output_type": "display_data"
    }
   ],
   "source": [
    "dat[, proportional_pop_estimate := proportional * proportional_weight]\n",
    "dat[, fixed_pop_estimate := fixed * fixed_weight]\n",
    "\n",
    "sum(dat$proportional_pop_estimate)\n",
    "sum(dat$fixed_pop_estimate)\n",
    "sum(sizes)"
   ]
  },
  {
   "cell_type": "code",
   "execution_count": 8,
   "metadata": {
    "vscode": {
     "languageId": "r"
    }
   },
   "outputs": [
    {
     "data": {
      "text/html": [
       "<table class=\"dataframe\">\n",
       "<caption>A data.table: 4 × 9</caption>\n",
       "<thead>\n",
       "\t<tr><th scope=col>type</th><th scope=col>N</th><th scope=col>p</th><th scope=col>proportional</th><th scope=col>fixed</th><th scope=col>proportional_weight</th><th scope=col>fixed_weight</th><th scope=col>proportional_pop_estimate</th><th scope=col>fixed_pop_estimate</th></tr>\n",
       "\t<tr><th scope=col>&lt;chr&gt;</th><th scope=col>&lt;dbl&gt;</th><th scope=col>&lt;dbl&gt;</th><th scope=col>&lt;dbl&gt;</th><th scope=col>&lt;dbl&gt;</th><th scope=col>&lt;dbl&gt;</th><th scope=col>&lt;dbl&gt;</th><th scope=col>&lt;dbl&gt;</th><th scope=col>&lt;dbl&gt;</th></tr>\n",
       "</thead>\n",
       "<tbody>\n",
       "\t<tr><td>A</td><td> 123</td><td>0.84</td><td> 10</td><td>  7</td><td>12.30000</td><td>17.57143</td><td> 123</td><td> 123</td></tr>\n",
       "\t<tr><td>B</td><td> 534</td><td>0.71</td><td> 42</td><td> 31</td><td>12.71429</td><td>17.22581</td><td> 534</td><td> 534</td></tr>\n",
       "\t<tr><td>C</td><td> 321</td><td>0.55</td><td> 25</td><td>100</td><td>12.84000</td><td> 3.21000</td><td> 321</td><td> 321</td></tr>\n",
       "\t<tr><td>D</td><td>2842</td><td>0.36</td><td>223</td><td>162</td><td>12.74439</td><td>17.54321</td><td>2842</td><td>2842</td></tr>\n",
       "</tbody>\n",
       "</table>\n"
      ],
      "text/latex": [
       "A data.table: 4 × 9\n",
       "\\begin{tabular}{lllllllll}\n",
       " type & N & p & proportional & fixed & proportional\\_weight & fixed\\_weight & proportional\\_pop\\_estimate & fixed\\_pop\\_estimate\\\\\n",
       " <chr> & <dbl> & <dbl> & <dbl> & <dbl> & <dbl> & <dbl> & <dbl> & <dbl>\\\\\n",
       "\\hline\n",
       "\t A &  123 & 0.84 &  10 &   7 & 12.30000 & 17.57143 &  123 &  123\\\\\n",
       "\t B &  534 & 0.71 &  42 &  31 & 12.71429 & 17.22581 &  534 &  534\\\\\n",
       "\t C &  321 & 0.55 &  25 & 100 & 12.84000 &  3.21000 &  321 &  321\\\\\n",
       "\t D & 2842 & 0.36 & 223 & 162 & 12.74439 & 17.54321 & 2842 & 2842\\\\\n",
       "\\end{tabular}\n"
      ],
      "text/markdown": [
       "\n",
       "A data.table: 4 × 9\n",
       "\n",
       "| type &lt;chr&gt; | N &lt;dbl&gt; | p &lt;dbl&gt; | proportional &lt;dbl&gt; | fixed &lt;dbl&gt; | proportional_weight &lt;dbl&gt; | fixed_weight &lt;dbl&gt; | proportional_pop_estimate &lt;dbl&gt; | fixed_pop_estimate &lt;dbl&gt; |\n",
       "|---|---|---|---|---|---|---|---|---|\n",
       "| A |  123 | 0.84 |  10 |   7 | 12.30000 | 17.57143 |  123 |  123 |\n",
       "| B |  534 | 0.71 |  42 |  31 | 12.71429 | 17.22581 |  534 |  534 |\n",
       "| C |  321 | 0.55 |  25 | 100 | 12.84000 |  3.21000 |  321 |  321 |\n",
       "| D | 2842 | 0.36 | 223 | 162 | 12.74439 | 17.54321 | 2842 | 2842 |\n",
       "\n"
      ],
      "text/plain": [
       "  type N    p    proportional fixed proportional_weight fixed_weight\n",
       "1 A     123 0.84  10            7   12.30000            17.57143    \n",
       "2 B     534 0.71  42           31   12.71429            17.22581    \n",
       "3 C     321 0.55  25          100   12.84000             3.21000    \n",
       "4 D    2842 0.36 223          162   12.74439            17.54321    \n",
       "  proportional_pop_estimate fixed_pop_estimate\n",
       "1  123                       123              \n",
       "2  534                       534              \n",
       "3  321                       321              \n",
       "4 2842                      2842              "
      ]
     },
     "metadata": {},
     "output_type": "display_data"
    }
   ],
   "source": [
    "dat"
   ]
  }
 ],
 "metadata": {
  "kernelspec": {
   "display_name": "R",
   "language": "R",
   "name": "ir"
  },
  "language_info": {
   "codemirror_mode": "r",
   "file_extension": ".r",
   "mimetype": "text/x-r-source",
   "name": "R",
   "pygments_lexer": "r",
   "version": "4.2.2"
  }
 },
 "nbformat": 4,
 "nbformat_minor": 4
}
