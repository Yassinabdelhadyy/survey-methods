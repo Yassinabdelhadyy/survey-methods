{
 "cells": [
  {
   "cell_type": "markdown",
   "metadata": {},
   "source": [
    "# Create weights for sample\n",
    "\n",
    "1. We read the data\n",
    "2. We create the categories needed to define weights\n",
    "3. We use the autumn package to create raking weights\n",
    "4. We inspect weights to see if they behave fine\n",
    "5. We estimate the proportion using raking weights\n",
    "6. We estimate the DEFF of weights"
   ]
  },
  {
   "cell_type": "code",
   "execution_count": 1,
   "metadata": {},
   "outputs": [],
   "source": [
    "# install packages\n",
    "\n",
    "# install.packages('data.table')\n",
    "# install.packages('simstudy')\n",
    "# install.packages('devtools')\n",
    "# install.packages('weights')\n",
    "# devtools::install_github(\"sdaza/autumn-adjustments\", force=TRUE)"
   ]
  },
  {
   "cell_type": "code",
   "execution_count": 9,
   "metadata": {
    "vscode": {
     "languageId": "r"
    }
   },
   "outputs": [],
   "source": [
    "library(data.table)\n",
    "library(weights)\n",
    "library(autumn)"
   ]
  },
  {
   "cell_type": "markdown",
   "metadata": {},
   "source": [
    "# Reading data "
   ]
  },
  {
   "cell_type": "code",
   "execution_count": 10,
   "metadata": {
    "vscode": {
     "languageId": "r"
    }
   },
   "outputs": [],
   "source": [
    "dat = fread(\"../homeworks/final-assignment.csv\")\n",
    "\n",
    "# create age categories\n",
    "dat[, age_group := cut(age, breaks=c(8, 13, 16, 19), labels=c(\"9-12\", \"13-15\", \"16-18\"))]\n",
    "\n",
    "# transform female to factor\n",
    "dat[, female := factor(female)]"
   ]
  },
  {
   "cell_type": "code",
   "execution_count": 11,
   "metadata": {},
   "outputs": [
    {
     "data": {
      "text/html": [
       "<table class=\"dataframe\">\n",
       "<caption>A data.table: 3 × 3</caption>\n",
       "<thead>\n",
       "\t<tr><th scope=col>age_group</th><th scope=col>min</th><th scope=col>max</th></tr>\n",
       "\t<tr><th scope=col>&lt;fct&gt;</th><th scope=col>&lt;dbl&gt;</th><th scope=col>&lt;dbl&gt;</th></tr>\n",
       "</thead>\n",
       "<tbody>\n",
       "\t<tr><td>13-15</td><td>13.00160</td><td>15.99923</td></tr>\n",
       "\t<tr><td>16-18</td><td>16.00235</td><td>17.99953</td></tr>\n",
       "\t<tr><td>9-12 </td><td> 9.00027</td><td>12.99976</td></tr>\n",
       "</tbody>\n",
       "</table>\n"
      ],
      "text/latex": [
       "A data.table: 3 × 3\n",
       "\\begin{tabular}{lll}\n",
       " age\\_group & min & max\\\\\n",
       " <fct> & <dbl> & <dbl>\\\\\n",
       "\\hline\n",
       "\t 13-15 & 13.00160 & 15.99923\\\\\n",
       "\t 16-18 & 16.00235 & 17.99953\\\\\n",
       "\t 9-12  &  9.00027 & 12.99976\\\\\n",
       "\\end{tabular}\n"
      ],
      "text/markdown": [
       "\n",
       "A data.table: 3 × 3\n",
       "\n",
       "| age_group &lt;fct&gt; | min &lt;dbl&gt; | max &lt;dbl&gt; |\n",
       "|---|---|---|\n",
       "| 13-15 | 13.00160 | 15.99923 |\n",
       "| 16-18 | 16.00235 | 17.99953 |\n",
       "| 9-12  |  9.00027 | 12.99976 |\n",
       "\n"
      ],
      "text/plain": [
       "  age_group min      max     \n",
       "1 13-15     13.00160 15.99923\n",
       "2 16-18     16.00235 17.99953\n",
       "3 9-12       9.00027 12.99976"
      ]
     },
     "metadata": {},
     "output_type": "display_data"
    }
   ],
   "source": [
    "# check age categories\n",
    "dat[, .(min=min(age), max=max(age)), age_group]"
   ]
  },
  {
   "cell_type": "markdown",
   "metadata": {},
   "source": [
    "# Explore data"
   ]
  },
  {
   "cell_type": "code",
   "execution_count": 12,
   "metadata": {},
   "outputs": [
    {
     "data": {
      "text/plain": [
       "   id_school        id_student    female        age             drug       \n",
       " Min.   :  1.00   Min.   :    1   0:5151   Min.   : 9.00   Min.   :0.0000  \n",
       " 1st Qu.: 25.00   1st Qu.: 3434   1:8584   1st Qu.:11.26   1st Qu.:0.0000  \n",
       " Median : 49.00   Median : 6868            Median :13.51   Median :0.0000  \n",
       " Mean   : 50.21   Mean   : 6868            Mean   :13.52   Mean   :0.1265  \n",
       " 3rd Qu.: 76.00   3rd Qu.:10302            3rd Qu.:15.79   3rd Qu.:0.0000  \n",
       " Max.   :100.00   Max.   :13735            Max.   :18.00   Max.   :1.0000  \n",
       " age_group   \n",
       " 9-12 :6064  \n",
       " 13-15:4554  \n",
       " 16-18:3117  \n",
       "             \n",
       "             \n",
       "             "
      ]
     },
     "metadata": {},
     "output_type": "display_data"
    }
   ],
   "source": [
    "summary(dat)"
   ]
  },
  {
   "cell_type": "code",
   "execution_count": 13,
   "metadata": {},
   "outputs": [
    {
     "data": {
      "text/html": [
       "<style>\n",
       ".dl-inline {width: auto; margin:0; padding: 0}\n",
       ".dl-inline>dt, .dl-inline>dd {float: none; width: auto; display: inline-block}\n",
       ".dl-inline>dt::after {content: \":\\0020\"; padding-right: .5ex}\n",
       ".dl-inline>dt:not(:first-of-type) {padding-left: .5ex}\n",
       "</style><dl class=dl-inline><dt>9-12</dt><dd>0.441499817983254</dd><dt>13-15</dt><dd>0.331561703676738</dd><dt>16-18</dt><dd>0.226938478340007</dd></dl>\n"
      ],
      "text/latex": [
       "\\begin{description*}\n",
       "\\item[9-12] 0.441499817983254\n",
       "\\item[13-15] 0.331561703676738\n",
       "\\item[16-18] 0.226938478340007\n",
       "\\end{description*}\n"
      ],
      "text/markdown": [
       "9-12\n",
       ":   0.44149981798325413-15\n",
       ":   0.33156170367673816-18\n",
       ":   0.226938478340007\n",
       "\n"
      ],
      "text/plain": [
       "     9-12     13-15     16-18 \n",
       "0.4414998 0.3315617 0.2269385 "
      ]
     },
     "metadata": {},
     "output_type": "display_data"
    }
   ],
   "source": [
    "wpct(dat$age_group)"
   ]
  },
  {
   "cell_type": "code",
   "execution_count": 16,
   "metadata": {},
   "outputs": [
    {
     "data": {
      "text/html": [
       "<style>\n",
       ".dl-inline {width: auto; margin:0; padding: 0}\n",
       ".dl-inline>dt, .dl-inline>dd {float: none; width: auto; display: inline-block}\n",
       ".dl-inline>dt::after {content: \":\\0020\"; padding-right: .5ex}\n",
       ".dl-inline>dt:not(:first-of-type) {padding-left: .5ex}\n",
       "</style><dl class=dl-inline><dt>0</dt><dd>0.375027302511831</dd><dt>1</dt><dd>0.624972697488169</dd></dl>\n"
      ],
      "text/latex": [
       "\\begin{description*}\n",
       "\\item[0] 0.375027302511831\n",
       "\\item[1] 0.624972697488169\n",
       "\\end{description*}\n"
      ],
      "text/markdown": [
       "0\n",
       ":   0.3750273025118311\n",
       ":   0.624972697488169\n",
       "\n"
      ],
      "text/plain": [
       "        0         1 \n",
       "0.3750273 0.6249727 "
      ]
     },
     "metadata": {},
     "output_type": "display_data"
    }
   ],
   "source": [
    "wpct(dat$female)"
   ]
  },
  {
   "cell_type": "code",
   "execution_count": 15,
   "metadata": {
    "jupyter": {
     "source_hidden": true
    },
    "vscode": {
     "languageId": "r"
    }
   },
   "outputs": [
    {
     "data": {
      "text/plain": [
       "   id_school        id_student    female        age             drug       \n",
       " Min.   :  1.00   Min.   :    1   0:5151   Min.   : 9.00   Min.   :0.0000  \n",
       " 1st Qu.: 25.00   1st Qu.: 3434   1:8584   1st Qu.:11.26   1st Qu.:0.0000  \n",
       " Median : 49.00   Median : 6868            Median :13.51   Median :0.0000  \n",
       " Mean   : 50.21   Mean   : 6868            Mean   :13.52   Mean   :0.1265  \n",
       " 3rd Qu.: 76.00   3rd Qu.:10302            3rd Qu.:15.79   3rd Qu.:0.0000  \n",
       " Max.   :100.00   Max.   :13735            Max.   :18.00   Max.   :1.0000  \n",
       " age_group   \n",
       " 9-12 :6064  \n",
       " 13-15:4554  \n",
       " 16-18:3117  \n",
       "             \n",
       "             \n",
       "             "
      ]
     },
     "metadata": {},
     "output_type": "display_data"
    }
   ],
   "source": [
    "summary(dat)"
   ]
  },
  {
   "cell_type": "markdown",
   "metadata": {},
   "source": [
    "# Weighting "
   ]
  },
  {
   "cell_type": "code",
   "execution_count": 17,
   "metadata": {},
   "outputs": [
    {
     "name": "stdout",
     "output_type": "stream",
     "text": [
      "   variable level prop_original prop_weighted target error_original\n",
      "1 age_group  9-12     0.4414998          0.40   0.40     0.04149982\n",
      "2 age_group 13-15     0.3315617          0.32   0.32     0.01156170\n",
      "3 age_group 16-18     0.2269385          0.28   0.28     0.05306152\n",
      "4    female     0     0.3750273          0.48   0.48     0.10497270\n",
      "5    female     1     0.6249727          0.52   0.52     0.10497270\n",
      "  error_weighted\n",
      "1   0.000000e+00\n",
      "2   0.000000e+00\n",
      "3   1.110223e-16\n",
      "4   5.551115e-17\n",
      "5   0.000000e+00\n"
     ]
    }
   ],
   "source": [
    "# using autumn \n",
    "\n",
    "target = list(\n",
    "    age_group = c('9-12' = 0.40, '13-15' = 0.32, \"16-18\" = 0.28), \n",
    "    female = c('0' = 0.48, '1' = 0.52)\n",
    ")\n",
    "     \n",
    "result = harvest(dat, target)\n",
    "print(diagnose_weights(data=result, target=target, weights=result$weights))"
   ]
  },
  {
   "cell_type": "code",
   "execution_count": 20,
   "metadata": {},
   "outputs": [
    {
     "data": {
      "text/html": [
       "1.0654837234358"
      ],
      "text/latex": [
       "1.0654837234358"
      ],
      "text/markdown": [
       "1.0654837234358"
      ],
      "text/plain": [
       "[1] 1.065484"
      ]
     },
     "metadata": {},
     "output_type": "display_data"
    }
   ],
   "source": [
    "# DEFF of weights \n",
    "design_effect(result$weights)"
   ]
  },
  {
   "cell_type": "code",
   "execution_count": 21,
   "metadata": {
    "vscode": {
     "languageId": "r"
    }
   },
   "outputs": [
    {
     "data": {
      "text/html": [
       "<style>\n",
       ".dl-inline {width: auto; margin:0; padding: 0}\n",
       ".dl-inline>dt, .dl-inline>dd {float: none; width: auto; display: inline-block}\n",
       ".dl-inline>dt::after {content: \":\\0020\"; padding-right: .5ex}\n",
       ".dl-inline>dt:not(:first-of-type) {padding-left: .5ex}\n",
       "</style><dl class=dl-inline><dt>0</dt><dd>0.86186105630821</dd><dt>1</dt><dd>0.13813894369179</dd></dl>\n"
      ],
      "text/latex": [
       "\\begin{description*}\n",
       "\\item[0] 0.86186105630821\n",
       "\\item[1] 0.13813894369179\n",
       "\\end{description*}\n"
      ],
      "text/markdown": [
       "0\n",
       ":   0.861861056308211\n",
       ":   0.13813894369179\n",
       "\n"
      ],
      "text/plain": [
       "        0         1 \n",
       "0.8618611 0.1381389 "
      ]
     },
     "metadata": {},
     "output_type": "display_data"
    }
   ],
   "source": [
    "# proportion \n",
    "wpct(result$drug, result$weights) # or weighted.mean(result$drug, result$weights)\n"
   ]
  }
 ],
 "metadata": {
  "kernelspec": {
   "display_name": "R",
   "language": "R",
   "name": "ir"
  },
  "language_info": {
   "codemirror_mode": "r",
   "file_extension": ".r",
   "mimetype": "text/x-r-source",
   "name": "R",
   "pygments_lexer": "r",
   "version": "4.2.2"
  }
 },
 "nbformat": 4,
 "nbformat_minor": 4
}
